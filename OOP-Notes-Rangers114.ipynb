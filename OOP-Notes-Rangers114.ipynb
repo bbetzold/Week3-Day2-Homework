{
 "cells": [
  {
   "cell_type": "markdown",
   "metadata": {},
   "source": [
    "# Object-Oriented-Programming (OOP)"
   ]
  },
  {
   "cell_type": "markdown",
   "metadata": {},
   "source": [
    "## Tasks Today:\n",
    "\n",
    "   \n",
    "\n",
    "1) <b>Creating a Class (Initializing/Declaring)</b> <br>\n",
    "2) <b>Using a Class (Instantiating)</b> <br>\n",
    " &nbsp;&nbsp;&nbsp;&nbsp; a) Creating One Instance <br>\n",
    " &nbsp;&nbsp;&nbsp;&nbsp; b) Creating Multiple Instances <br>\n",
    " &nbsp;&nbsp;&nbsp;&nbsp; c) In-Class Exercise #1 - Create a Class 'Car' and instantiate three different makes of cars <br>\n",
    "3) <b>The \\__init\\__() Method</b> <br>\n",
    " &nbsp;&nbsp;&nbsp;&nbsp; a) The 'self' Attribute <br>\n",
    "4) <b>Class Attributes</b> <br>\n",
    " &nbsp;&nbsp;&nbsp;&nbsp; a) Initializing Attributes <br>\n",
    " &nbsp;&nbsp;&nbsp;&nbsp; b) Setting an Attribute Outside of the \\__init\\__() Method <br>\n",
    " &nbsp;&nbsp;&nbsp;&nbsp; c) Setting Defaults for Attributes <br>\n",
    " &nbsp;&nbsp;&nbsp;&nbsp; d) Accessing Class Attributes <br>\n",
    " &nbsp;&nbsp;&nbsp;&nbsp; e) Changing Class Attributes <br>\n",
    " &nbsp;&nbsp;&nbsp;&nbsp; f) In-Class Exercise #2 - Add a color and wheels attribute to your 'Car' class <br>\n",
    "5) <b>Class Methods</b> <br>\n",
    " &nbsp;&nbsp;&nbsp;&nbsp; a) Creating <br>\n",
    " &nbsp;&nbsp;&nbsp;&nbsp; b) Calling <br>\n",
    " &nbsp;&nbsp;&nbsp;&nbsp; c) Modifying an Attribute's Value Through a Method <br>\n",
    " &nbsp;&nbsp;&nbsp;&nbsp; d) Incrementing an Attribute's Value Through a Method <br>\n",
    " &nbsp;&nbsp;&nbsp;&nbsp; e) In-Class Exercise #3 - Add a method that prints the cars color and wheel number, then call them <br>\n",
    "6) <b>Inheritance</b> <br>\n",
    " &nbsp;&nbsp;&nbsp;&nbsp; a) Syntax for Inheriting from a Parent Class <br>\n",
    " &nbsp;&nbsp;&nbsp;&nbsp; b) The \\__init\\__() Method for a Child Class (super()) <br>\n",
    " &nbsp;&nbsp;&nbsp;&nbsp; c) Defining Attributes and Methods for the Child Class <br>\n",
    " &nbsp;&nbsp;&nbsp;&nbsp; d) Method Overriding <br>\n",
    " &nbsp;&nbsp;&nbsp;&nbsp; e) In-Class Exercise #4 - Create a class 'Ford' that inherits from 'Car' class and initialize it as a Blue Ford Explorer with 4 wheels using the super() method <br>\n",
    "7) <b>Classes as Attributes</b> <br>\n",
    "8) <b>Exercises</b> <br>\n",
    " &nbsp;&nbsp;&nbsp;&nbsp; a) Exercise #1 - Turn the shopping cart program from last week into an object-oriented program <br>"
   ]
  },
  {
   "cell_type": "markdown",
   "metadata": {},
   "source": [
    "## Creating a Class (Initializing/Declaring)\n",
    "<p>When creating a class, function, or even a variable you are initializing that object. Initializing and Declaring occur at the same time in Python, whereas in lower level languages you have to declare an object before initializing it. This is the first step in the process of using a class.</p>"
   ]
  },
  {
   "cell_type": "code",
   "execution_count": 6,
   "metadata": {},
   "outputs": [],
   "source": [
    "class Car():\n",
    "    wheels = 4\n",
    "    color = \"blue\""
   ]
  },
  {
   "cell_type": "markdown",
   "metadata": {},
   "source": [
    "## Using a Class (Instantiating)\n",
    "<p>The process of creating a class is called <i>Instantiating</i>. Each time you create a variable of that type of class, it is referred to as an <i>Instance</i> of that class. This is the second step in the process of using a class.</p>"
   ]
  },
  {
   "cell_type": "markdown",
   "metadata": {},
   "source": [
    "##### Creating One Instance"
   ]
  },
  {
   "cell_type": "code",
   "execution_count": 7,
   "metadata": {},
   "outputs": [
    {
     "name": "stdout",
     "output_type": "stream",
     "text": [
      "4\n",
      "blue\n"
     ]
    }
   ],
   "source": [
    "mazda = Car() #<---- need parentheses\n",
    "\n",
    "print(mazda.wheels)\n",
    "print(mazda.color)\n",
    "\n"
   ]
  },
  {
   "cell_type": "markdown",
   "metadata": {},
   "source": [
    "##### Creating Multiple Instances"
   ]
  },
  {
   "cell_type": "code",
   "execution_count": 11,
   "metadata": {},
   "outputs": [
    {
     "name": "stdout",
     "output_type": "stream",
     "text": [
      "4\n",
      "4\n",
      "blue\n"
     ]
    }
   ],
   "source": [
    "ford = Car()\n",
    "honda = Car()\n",
    "chevy = Car()\n",
    "\n",
    "print(ford.wheels)\n",
    "print(honda.wheels)\n",
    "print(chevy.color)"
   ]
  },
  {
   "cell_type": "markdown",
   "metadata": {},
   "source": [
    "##### In-Class Exercise #1 - Create a Class 'Car' and Instantiate three different makes of cars"
   ]
  },
  {
   "cell_type": "code",
   "execution_count": 29,
   "metadata": {},
   "outputs": [
    {
     "name": "stdout",
     "output_type": "stream",
     "text": [
      "red\n",
      "7\n",
      "highlander\n",
      "blue\n",
      "4\n",
      "sedan\n"
     ]
    }
   ],
   "source": [
    "class Car():\n",
    "    seats = 4\n",
    "    wheels = 4\n",
    "    color = \"blue\"\n",
    "    model = \"sedan\"\n",
    "    \n",
    "toyota = Car()\n",
    "honda = Car()\n",
    "ford = Car()\n",
    "\n",
    "toyota.seats = 7\n",
    "toyota.color = \"red\"\n",
    "toyota.model = \"highlander\"\n",
    "\n",
    "print(toyota.color)\n",
    "print(toyota.seats)\n",
    "print(toyota.model)\n",
    "\n",
    "print(honda.color)\n",
    "print(honda.seats)\n",
    "print(honda.model)\n",
    "    "
   ]
  },
  {
   "cell_type": "code",
   "execution_count": 27,
   "metadata": {},
   "outputs": [],
   "source": []
  },
  {
   "cell_type": "code",
   "execution_count": null,
   "metadata": {},
   "outputs": [],
   "source": [
    "\n"
   ]
  },
  {
   "cell_type": "code",
   "execution_count": null,
   "metadata": {},
   "outputs": [],
   "source": []
  },
  {
   "cell_type": "code",
   "execution_count": null,
   "metadata": {},
   "outputs": [],
   "source": []
  },
  {
   "cell_type": "code",
   "execution_count": null,
   "metadata": {},
   "outputs": [],
   "source": []
  },
  {
   "cell_type": "markdown",
   "metadata": {},
   "source": [
    "## The \\__init\\__() Method <br>\n",
    "<p>This method is used in almost every created class, and called only once upon the creation of the class instance. This method will initialize all variables needed for the object.</p>"
   ]
  },
  {
   "cell_type": "code",
   "execution_count": 36,
   "metadata": {},
   "outputs": [
    {
     "name": "stdout",
     "output_type": "stream",
     "text": [
      "blue\n",
      "black\n",
      "orange\n",
      "\n",
      "\n",
      "red\n",
      "black\n",
      "orange\n",
      "<class '__main__.Car'>\n",
      "{'wheels': 4, 'color': 'red', 'doors': 4}\n",
      "{'wheels': 4, 'color': 'red', 'doors': 4}\n",
      "4\n"
     ]
    }
   ],
   "source": [
    "class Car():\n",
    "    def __init__(self, wheels, color, doors):\n",
    "        self.wheels = wheels #honda.wheels = <whatever the wheels argument is that we pass into the class instantiation\n",
    "        self.color = color #honda.color =^^\n",
    "        self.doors = doors\n",
    "        \"\"\" Can call functions inside\n",
    "        of here\n",
    "        \"\"\"\n",
    "\n",
    "mazda = Car(4, 'blue', 4)\n",
    "chevy = Car(6, 'black', 4)\n",
    "subaru = Car(4, 'orange', 5)\n",
    "\n",
    "print(mazda.color)\n",
    "print(chevy.color)\n",
    "print(subaru.color)\n",
    "\n",
    "mazda.color = \"red\"\n",
    "print(\"\\n\")\n",
    "print(mazda.color)\n",
    "print(chevy.color)\n",
    "print(subaru.color)\n",
    "\n",
    "print(type(mazda))\n",
    "\n",
    "print(mazda.__dict__)\n",
    "mazda_dict = mazda.__dict__\n",
    "print(mazda_dict)\n",
    "print(mazda_dict['wheels'])\n",
    "\n",
    "#     def add_to_cart(self):\n",
    "#         self.cart['item'] = 'apple'"
   ]
  },
  {
   "cell_type": "markdown",
   "metadata": {},
   "source": [
    "##### The 'self' Attribute <br>\n",
    "<p>This attribute is required to keep track of specific instance's attributes. Without the self attribute, the program would not know how to reference or keep track of an instance's attributes.</p>"
   ]
  },
  {
   "cell_type": "code",
   "execution_count": 38,
   "metadata": {},
   "outputs": [],
   "source": [
    "class Pokemon():\n",
    "    def __init__(self, type_):\n",
    "        #self will hold the place of the object we eventually instantiate\n",
    "        self.name = self.set_name()\n",
    "        self.type = type_ #<-- underscore after type because it's a reserved name for a function\n",
    "        \n",
    "    def print_info(self): #class methods always take in self\n",
    "        print(f\"This is {self.name}. It is a {self.type} type.\")\n",
    "    \n",
    "    def set_name(self):\n",
    "        name = input(\"What is your Pokemon's name?\")\n",
    "        return name"
   ]
  },
  {
   "cell_type": "code",
   "execution_count": null,
   "metadata": {},
   "outputs": [],
   "source": []
  },
  {
   "cell_type": "markdown",
   "metadata": {},
   "source": [
    "## Class Attributes <br>\n",
    "<p>While variables are inside of a class, they are referred to as attributes and not variables. When someone says 'attribute' you know they're speaking about a class. Attributes can be initialized through the init method, or outside of it.</p>"
   ]
  },
  {
   "cell_type": "markdown",
   "metadata": {},
   "source": [
    "##### Initializing Attributes"
   ]
  },
  {
   "cell_type": "code",
   "execution_count": 39,
   "metadata": {},
   "outputs": [
    {
     "name": "stdout",
     "output_type": "stream",
     "text": [
      "What is your Pokemon's name?Charmander\n"
     ]
    }
   ],
   "source": [
    "charmander = Pokemon(\"fire\")"
   ]
  },
  {
   "cell_type": "markdown",
   "metadata": {},
   "source": [
    "##### Accessing Class Attributes"
   ]
  },
  {
   "cell_type": "code",
   "execution_count": 41,
   "metadata": {
    "scrolled": true
   },
   "outputs": [
    {
     "name": "stdout",
     "output_type": "stream",
     "text": [
      "Charmander\n",
      "fire\n",
      "{'name': 'Charmander', 'type': 'fire'}\n"
     ]
    }
   ],
   "source": [
    "print(charmander.name)\n",
    "print(charmander.type)\n",
    "print(charmander.__dict__)"
   ]
  },
  {
   "cell_type": "markdown",
   "metadata": {},
   "source": [
    "##### Setting Defaults for Attributes"
   ]
  },
  {
   "cell_type": "code",
   "execution_count": 49,
   "metadata": {},
   "outputs": [
    {
     "name": "stdout",
     "output_type": "stream",
     "text": [
      "4\n",
      "Red\n",
      "yellow\n",
      "\n",
      "\n",
      "orange\n"
     ]
    }
   ],
   "source": [
    "#setting a default attribute inside the __init__\n",
    "# class Car():\n",
    "#     def __init__(self, wheels):\n",
    "#         self.wheels = wheels\n",
    "#         self.color = \"Blue\"\n",
    "\n",
    "# hond = Car(4)\n",
    "\n",
    "\n",
    "# honda.color = \"Red\"\n",
    "# print(honda.color)\n",
    "\n",
    "# setting a default parameter in the __init__(w/ in the paretheses upon instantiation)\n",
    "\n",
    "class Car():\n",
    "    def __init__(self, wheels, color = \"Red\"):\n",
    "        self.wheels = wheels\n",
    "        self.color = color\n",
    "\n",
    "ford = Car(4)\n",
    "print(ford.wheels)\n",
    "print(ford.color)\n",
    "\n",
    "ford.color = \"yellow\"\n",
    "print(ford.color)\n",
    "print(\"\\n\")\n",
    "\n",
    "toyota = Car(4, 'orange')\n",
    "print(toyota.color)"
   ]
  },
  {
   "cell_type": "markdown",
   "metadata": {},
   "source": [
    "##### Changing Class Attributes <br>\n",
    "<p>Keep in mind there are global class attributes and then there are attributes only available to each class instance which won't effect other classes.</p>"
   ]
  },
  {
   "cell_type": "code",
   "execution_count": 51,
   "metadata": {},
   "outputs": [
    {
     "name": "stdout",
     "output_type": "stream",
     "text": [
      "Cheetor before he was broken: True he is fun\n",
      "Cheetor after he was broken: False he is fun\n"
     ]
    }
   ],
   "source": [
    "class Toy():\n",
    "    def __init__(self, name, is_it_fun):\n",
    "        self.name = name\n",
    "        self.is_it_fun = is_it_fun\n",
    "        \n",
    "beast_wars = Toy(\"Cheetor\", True)\n",
    "print(f\"Cheetor before he was broken: {beast_wars.is_it_fun} he is fun\")\n",
    "\n",
    "beast_wars.is_it_fun = False\n",
    "print(f\"Cheetor after he was broken: {beast_wars.is_it_fun} he is fun\")\n"
   ]
  },
  {
   "cell_type": "code",
   "execution_count": null,
   "metadata": {},
   "outputs": [],
   "source": []
  },
  {
   "cell_type": "markdown",
   "metadata": {},
   "source": [
    "##### In-Class Exercise #2 - Add two new attributes to your 'Car' class then print out two different instances with different doors and seats. Then take that bad boy to the shop and change those attributes. Either with an input or just by changing them"
   ]
  },
  {
   "cell_type": "code",
   "execution_count": 59,
   "metadata": {},
   "outputs": [
    {
     "name": "stdout",
     "output_type": "stream",
     "text": [
      "How many seats does your vehicle have?7\n",
      "7\n"
     ]
    }
   ],
   "source": [
    "class Car():\n",
    "    \n",
    "    def __init__(self, year = 2023, model = \"sedan\", color = \"white\", wheels = 4):\n",
    "        self.year = year\n",
    "        self.model = model\n",
    "        self.color = color\n",
    "        self.seats = self.no_of_seats()\n",
    "        self.wheels = wheels\n",
    "        \n",
    "    def no_of_seats(self):\n",
    "        seats_ = input(\"How many seats does your vehicle have?\")\n",
    "        return seats_\n",
    "    \n",
    "toyota = Car(year = 2021, color = \"blue\")\n",
    "print(toyota.seats)\n",
    "\n",
    "\n",
    "\n"
   ]
  },
  {
   "cell_type": "markdown",
   "metadata": {},
   "source": [
    "## Class Methods <br>\n",
    "<p>While inside of a class, functions are referred to as 'methods'. If you hear someone mention methods, they're speaking about classes. Methods are essentially functions, but only callable on the instances of a class.</p>"
   ]
  },
  {
   "cell_type": "markdown",
   "metadata": {},
   "source": [
    "##### Creating"
   ]
  },
  {
   "cell_type": "code",
   "execution_count": null,
   "metadata": {},
   "outputs": [],
   "source": [
    "class Bus():\n",
    "    \"\"\"\n",
    "    The bus will have doors, seats, seats available, color, and a bus driver\n",
    "    \n",
    "    Attributes for the bus:\n",
    "     - doors: integer\n",
    "     - seats: integer\n",
    "     - seats_availabe: integer\n",
    "     - color: string\n",
    "     - bus_driver: string\n",
    "    \"\"\"\n",
    "    def __init__(self, doors, seats, seats_available, color, bus_driver):\n",
    "        self.doors = doors\n",
    "        self.seats = seats\n",
    "        self.seats_available = seats_available\n",
    "        self.color = color\n",
    "        self.bus_driver = bus_driver\n",
    "    \n",
    "    #decrement the number of seats available\n",
    "    def load_passengers(self):\n",
    "        if self.seats_available == 0:\n",
    "            print(\"The bus is full! You can't take any more passengers! :(\")\n",
    "        else:\n",
    "                passengers = int(input(\"How many passengers are getting on? \"))\n",
    "                self.seats_available -= passengers\n",
    "                if self.seats_available < 0:\n",
    "                    print(f\"You left {abs(self.seats_available)} by the road!\")\n",
    "                print(f\"{passengers} have board.  There are {self.seats_available} seats available on the bus.\")\n",
    "                \n",
    "    #increment the number of seats available\n",
    "    def unload_passengers(self):\n",
    "        if self.seats_available >= self.seats:\n",
    "            print(\"There is no one left to get off the bus!\")\n",
    "        else:\n",
    "            unload = int(input(\"How many passengers are getting off the bus? \"))\n",
    "            self.seats_available += unload\n",
    "            if self.seats_available >= self.seats:\n",
    "                self.seats_available = self.seats\n",
    "            \n",
    "            print(f\"{unload} passengers have left the bus.  There are {self.seats_available} left\")\n",
    "    \n",
    "    #change the bus driver attribute\n",
    "    def change_driver(self):\n",
    "        change = input(\"Who is replacing you? \")\n",
    "        self.bus_driver = change\n",
    "        print(f\"The new bus driver is {self.bus_driver}. Be sure to thank them.!\")\n",
    "    \n",
    "    #display number of available seats\n",
    "    def check_seats(self):\n",
    "        print(f\"There are {self.seats_available} seats available.\")\n",
    "    \n",
    "    #display bus color\n",
    "    def admire_bus(self):\n",
    "        print(f\"Would ya just look at that beautiful {self.color} bus! WOULD YA JUST LOOK AT IT!\")\n",
    "    \n",
    "    \n",
    "        \n",
    "        \n"
   ]
  },
  {
   "cell_type": "markdown",
   "metadata": {},
   "source": [
    "##### Calling"
   ]
  },
  {
   "cell_type": "code",
   "execution_count": 71,
   "metadata": {},
   "outputs": [
    {
     "name": "stdout",
     "output_type": "stream",
     "text": [
      "What would you like to do? Load/Unload/Change Driver/Check Seats/Admire/Quit admire\n",
      "Would ya just look at that beautiful yellow bus! WOULD YA JUST LOOK AT IT!\n",
      "What would you like to do? Load/Unload/Change Driver/Check Seats/Admire/Quit quit\n",
      "OH NO! There are still passengers to be picked up. PLS don't abandon them!\n"
     ]
    }
   ],
   "source": [
    "def run():\n",
    "    ben_bus = Bus(2, 90, 45, 'yellow', \"Ben\")\n",
    "    go_round_and_round = True\n",
    "    while go_round_and_round:\n",
    "        response = input(\"What would you like to do? Load/Unload/Change Driver/Check Seats/Admire/Quit \").lower()\n",
    "        if response.lower() == \"quit\":\n",
    "            print(\"OH NO! There are still passengers to be picked up. PLS don't abandon them!\")\n",
    "            go_round_and_round = False\n",
    "        elif response == \"load\":\n",
    "            ben_bus.load_passengers() #<-- don't forget your parentheses\n",
    "            \n",
    "        elif response == \"unload\":\n",
    "            ben_bus.unload_passengers()\n",
    "            \n",
    "        elif response == \"change driver\":\n",
    "            ben_bus.change_driver()\n",
    "            \n",
    "        elif response == \"check seats\":\n",
    "            ben_bus.check_seats()\n",
    "            \n",
    "        elif response == \"admire\":\n",
    "            ben_bus.admire_bus()\n",
    "        \n",
    "        else:\n",
    "            print(\"That is not a valid response. Please choose from the list.\")\n",
    "            \n",
    "run()"
   ]
  },
  {
   "cell_type": "code",
   "execution_count": null,
   "metadata": {},
   "outputs": [],
   "source": [
    "class Cart():\n",
    "    def __init__(self):\n",
    "        self.items = []\n",
    "        \n",
    "#     def add_item(self):\n",
    "#         item = input(\"What would you like to add?\")\n",
    "#         quantity = int(input(\"How many would you like to add? \"))\n",
    "#         if item not in self.items:\n",
    "#             self.items[item] = quantity\n",
    "#         else:\n",
    "#             self.items[item] += quantity\n",
    "\n",
    "    def add_item(self):\n",
    "        item = input(\"What would you like to add? \")\n",
    "        self.items.append(item)\n",
    "    \n",
    "    def show_cart(self):\n",
    "        print(self.items)\n",
    "        \n",
    "    def remove_item(self):\n",
    "        pass\n",
    "        \n",
    "my_cart = Cart()\n",
    "my_cart.add_item()\n",
    "my_cart.show_cart()\n",
    "my_cart.add_item()\n",
    "my_cart.show_cart()\n"
   ]
  },
  {
   "cell_type": "markdown",
   "metadata": {},
   "source": [
    "##### Modifying an Attribute's Value Through a Method"
   ]
  },
  {
   "cell_type": "code",
   "execution_count": null,
   "metadata": {},
   "outputs": [],
   "source": [
    "# see above\n",
    "# load_passengers()\n",
    "# unload_passengers()\n",
    "# change_driver()"
   ]
  },
  {
   "cell_type": "markdown",
   "metadata": {},
   "source": [
    "##### Incrementing an Attribute's Value Through a Method"
   ]
  },
  {
   "cell_type": "code",
   "execution_count": null,
   "metadata": {},
   "outputs": [],
   "source": [
    "#unload_passengers()"
   ]
  },
  {
   "cell_type": "markdown",
   "metadata": {},
   "source": [
    "##### In-Class Exercise #3 - Add a method that takes in three parameters of year, doors and seats and prints out a formatted print statement with make, model, year, seats, and doors"
   ]
  },
  {
   "cell_type": "code",
   "execution_count": 78,
   "metadata": {},
   "outputs": [
    {
     "name": "stdout",
     "output_type": "stream",
     "text": [
      "How many seats does your vehicle have? 5\n",
      "2021\n",
      "What is the model of your vehicle?honda\n"
     ]
    },
    {
     "data": {
      "text/plain": [
       "'honda'"
      ]
     },
     "execution_count": 78,
     "metadata": {},
     "output_type": "execute_result"
    }
   ],
   "source": [
    "# Create class with 2 parameters inside of the __init__ which are make and model, more if you'd like\n",
    "\n",
    "# Create two methods for your class\n",
    "\n",
    "# Create a method that alters an attribute for your class\n",
    "\n",
    "# Display method that prints information about the vehicle\n",
    "\n",
    "# Output: This car is from 2019 and is a Ford Expolorer and has 4 doors and 5 seats\n",
    "\n",
    "# reminder in order to call class methods object.method()\n",
    "\n",
    "class Car():\n",
    "    \n",
    "    def __init__(self, year = 2023, model = \"sedan\", color = \"white\", wheels = 4):\n",
    "        self.year = year\n",
    "        self.model = model\n",
    "        self.color = color\n",
    "        self.seats = self.no_of_seats()\n",
    "        self.wheels = wheels\n",
    "        \n",
    "    def no_of_seats(self):\n",
    "        seats_ = input(\"How many seats does your vehicle have? \")\n",
    "        return seats_\n",
    "    \n",
    "    def year(self):\n",
    "        user_year = input(\"What year is your vehicle\")\n",
    "        self.year = user_year\n",
    "        return user_year\n",
    "    \n",
    "    def change_model(self):\n",
    "        user_model = input(\"What is the model of your vehicle?\")\n",
    "        self.model = user_model\n",
    "        return user_model\n",
    "        \n",
    "    \n",
    "toyota = Car(2021)\n",
    "print(toyota.year)\n",
    "\n",
    "toyota.change_model()\n",
    "\n",
    "# class Car():\n",
    "#     def __init__(self, make, model):\n",
    "#         self.make = make\n",
    "#         self.model = model\n",
    "#         self.year = 2022\n",
    "#         self.seats = 5\n",
    "#         self.doors = 4\n",
    "#     def change_info(self, year, doors, seats):\n",
    "#         self.year = year\n",
    "#         self.seats = seats\n",
    "#         self.doors = doors\n",
    "        \n",
    "#     def display_info(self):\n",
    "#         print(f\"The car is {self.year}-{self.make} {self.model} and it has {self.doors} door and {self.seats} seats\")\n",
    "\n",
    "# dharti_car = Car(\"Honda\", \"CR-V\")\n",
    "# dharti_car.display_info()\n",
    "# dharti_car.change_info(2020, 4, 8)\n",
    "# dharti_car.display_info()\n",
    "\n"
   ]
  },
  {
   "cell_type": "markdown",
   "metadata": {},
   "source": [
    "## Inheritance <br>\n",
    "<p>You can create a child-parent relationship between two classes by using inheritance. What this allows you to do is have overriding methods, but also inherit traits from the parent class. Think of it as an actual parent and child, the child will inherit the parent's genes, as will the classes in OOP</p>"
   ]
  },
  {
   "cell_type": "markdown",
   "metadata": {},
   "source": [
    "##### Syntax for Inheriting from a Parent Class"
   ]
  },
  {
   "cell_type": "code",
   "execution_count": 88,
   "metadata": {},
   "outputs": [],
   "source": [
    "class Animal: #<-- Parent Class\n",
    "    ACCELERATION = 9.8\n",
    "    def __init__(self, name, species, legs = 4):\n",
    "        self.name = name\n",
    "        self.species = species\n",
    "        self.legs = legs\n",
    "\n",
    "    #generic parent method\n",
    "    def make_sounds(self):\n",
    "        print(\"REEEEEEEEEE\")\n",
    "\n",
    "# child class\n",
    "class Dog(Animal):\n",
    "    SPEED = 15\n",
    "    def __init__(self, name, species, legs, color):\n",
    "        super().__init__(names, species, legs)\n",
    "        self.color = color\n",
    "        \n",
    "    def print_info(self):\n",
    "        print(f\"{self.name} runs at {self.SPEED} mph and accelerates at {self.ACCELERATION} mps^2\")\n",
    "\n",
    "# grandchild class\n",
    "class Mutt(Dog):\n",
    "    COLOR = \"light brownish\"\n",
    "    \n",
    "    #Access the animal init class through the dog class\n",
    "    def __init__(self, name, species, legs, eye_color):\n",
    "        Dog.__init__(self, name, species, legs)\n",
    "        self.eye.color = eye_color\n",
    "        \n",
    "    #override the make_sound method\n",
    "    def make_sounds(self):\n",
    "        print(\"roooooooooo\")\n"
   ]
  },
  {
   "cell_type": "code",
   "execution_count": 92,
   "metadata": {},
   "outputs": [
    {
     "name": "stdout",
     "output_type": "stream",
     "text": [
      "9.8\n",
      "Kwicky\n",
      "REEEEEEEEEE\n"
     ]
    }
   ],
   "source": [
    "koala = Animal('Kwicky', 'koala')\n",
    "print(koala.ACCELERATION)\n",
    "print(koala.name)\n",
    "koala.make_sounds()"
   ]
  },
  {
   "cell_type": "markdown",
   "metadata": {},
   "source": [
    "##### The \\__init\\__() Method for a Child Class - super()"
   ]
  },
  {
   "cell_type": "code",
   "execution_count": null,
   "metadata": {
    "scrolled": true
   },
   "outputs": [],
   "source": []
  },
  {
   "cell_type": "markdown",
   "metadata": {},
   "source": [
    "##### Defining Attributes and Methods for the Child Class"
   ]
  },
  {
   "cell_type": "code",
   "execution_count": null,
   "metadata": {},
   "outputs": [],
   "source": [
    "# See Above"
   ]
  },
  {
   "cell_type": "markdown",
   "metadata": {},
   "source": [
    "##### Method Overriding"
   ]
  },
  {
   "cell_type": "code",
   "execution_count": null,
   "metadata": {},
   "outputs": [],
   "source": [
    "# See Above"
   ]
  },
  {
   "cell_type": "markdown",
   "metadata": {},
   "source": [
    "## Instances of Classes as Attributes <br>\n",
    "<p>Classes can also be used as attributes within another class. This is useful in situations where you need to keep variables locally stored, instead of globally stored.</p>"
   ]
  },
  {
   "cell_type": "code",
   "execution_count": 94,
   "metadata": {},
   "outputs": [
    {
     "name": "stdout",
     "output_type": "stream",
     "text": [
      "2023 Tesla Plaid 20\n"
     ]
    }
   ],
   "source": [
    "class Battery():\n",
    "    VOlTZ = 7.8\n",
    "    def __init__(self, cells):\n",
    "        self.cells = cells\n",
    "\n",
    "class Car():\n",
    "    def __init__(self, year, make, model, battery):\n",
    "        self.year = year\n",
    "        self.make = make\n",
    "        self.model = model\n",
    "        self.battery = battery\n",
    "    \n",
    "    def print_info(self):\n",
    "        print(f\"{self.year} {self.make} {self.model} {self.battery.cells}\")\n",
    "        \n",
    "my_battery = Battery(20)\n",
    "\n",
    "tesla = Car(2023, \"Tesla\", \"Plaid\", my_battery)\n",
    "tesla.print_info()"
   ]
  },
  {
   "cell_type": "markdown",
   "metadata": {},
   "source": [
    "## Classes as Attributes <br>"
   ]
  },
  {
   "cell_type": "markdown",
   "metadata": {},
   "source": [
    "<b>Generators in classes</b>"
   ]
  },
  {
   "cell_type": "code",
   "execution_count": 104,
   "metadata": {},
   "outputs": [],
   "source": [
    "# iterate through a list of movie genres and yield each genre until we get to the end of the list\n",
    "# once the end of the list is hit you will get a StopIteration\n",
    "#try and except to print a message that says \"no more genres\"\n",
    "\n",
    "class Movie:\n",
    "    def __init__(self):\n",
    "        self.genres = ['spooky', 'adventure', 'drama', 'horror', 'comedy', 'action', 'romance']\n",
    "        self.generator_object = self.yield_genres()\n",
    "        \n",
    "    def yield_genres(self):\n",
    "        for genre in self.genres:\n",
    "            yield genre\n",
    "            \n",
    "    def show_genres(self):\n",
    "        try:\n",
    "            return next(self.generator_object)\n",
    "        except:\n",
    "            print('no more genres')\n",
    "            \n",
    "my_movie = Movie()\n",
    "            "
   ]
  },
  {
   "cell_type": "code",
   "execution_count": 105,
   "metadata": {
    "scrolled": false
   },
   "outputs": [
    {
     "data": {
      "text/plain": [
       "'spooky'"
      ]
     },
     "execution_count": 105,
     "metadata": {},
     "output_type": "execute_result"
    }
   ],
   "source": [
    "my_movie.show_genres()"
   ]
  },
  {
   "cell_type": "markdown",
   "metadata": {},
   "source": [
    "# Exercises"
   ]
  },
  {
   "cell_type": "markdown",
   "metadata": {},
   "source": [
    "### Exercise 1 - Turn the shopping cart program from last week into an object-oriented program\n",
    "\n",
    "The comments in the cell below are there as a guide for thinking about the problem. However, if you feel a different way is best for you and your own thought process, please do what feels best for you by all means."
   ]
  },
  {
   "cell_type": "code",
   "execution_count": 58,
   "metadata": {
    "scrolled": true
   },
   "outputs": [
    {
     "name": "stdout",
     "output_type": "stream",
     "text": [
      "Assign a name to your cart.Ben\n",
      "What would you like to do to your cart. Add/Remove/Show/Checkout add\n",
      "What item would you like to add to your list? bread\n",
      "How many bread(s) do you need? 2\n",
      "What would you like to do to your cart. Add/Remove/Show/Checkout add\n",
      "What item would you like to add to your list? milk\n",
      "How many milk(s) do you need? 1\n",
      "What would you like to do to your cart. Add/Remove/Show/Checkout add\n",
      "What item would you like to add to your list? eggs\n",
      "How many eggs(s) do you need? 24\n",
      "What would you like to do to your cart. Add/Remove/Show/Checkout remove\n",
      "Which item would you like to remove from the list? eggs\n",
      "How many would you like to remove? 12\n",
      "12 eggs(s) has/have been removed!\n",
      "bread | quantity: 2\n",
      "milk | quantity: 1\n",
      "eggs | quantity: 12\n",
      "What would you like to do to your cart. Add/Remove/Show/Checkout checkout\n",
      "\n",
      "Thanks for shopping with us Ben! Here are your groceries. \n",
      "\n",
      "bread | quantity: 2\n",
      "milk | quantity: 1\n",
      "eggs | quantity: 12\n"
     ]
    }
   ],
   "source": [
    "# Create a class called cart that retains items and has methods to add (add_to_cart), remove (remove_from_cart),\n",
    "# show cart (show_cart), quit\n",
    "\n",
    "\n",
    "class Cart():\n",
    "    \"\"\"\n",
    "    The car will have a name, add item, remove item, show cart, quit\n",
    "     - consider a child class for different stores\n",
    "      \n",
    "    Attributes for the bus:\n",
    "     - doors: integer\n",
    "     - seats: integer\n",
    "     - seats_availabe: integer\n",
    "     - color: string\n",
    "     - bus_driver: string\n",
    "    \"\"\"\n",
    "    \n",
    "    def __init__(self):\n",
    "        self.name = self.enter_name()\n",
    "        self.lst_items = {}\n",
    "           \n",
    "    #add items\n",
    "    def add_item(self):\n",
    "        new_item = input(\"What item would you like to add to your list? \")\n",
    "#         quantity_type = input(\"Enter the quantity type you need? each/pounds. \")\n",
    "#         new_item += f\" {quantity_type}\"\n",
    "                            \n",
    "        if new_item not in self.lst_items.keys():\n",
    "            quantity = int(input(f\"How many {new_item}(s) do you need? \"))\n",
    "            self.lst_items[new_item] = quantity\n",
    "        else:\n",
    "            quantity = int(input(f\"{new_item.title()} is already on the list, please enter the quantity needed.\"))\n",
    "            self.lst_items[new_item] = quantity\n",
    "            \n",
    "    # user to enter name or name of cart\n",
    "    def enter_name(self):\n",
    "        name = input(\"Assign a name to your cart.\")\n",
    "        return name\n",
    "    \n",
    "    #show cart\n",
    "    def show_cart(self):\n",
    "        for item, quantity in self.lst_items.items():\n",
    "            print(f\"{item} | quantity: {quantity}\")\n",
    "    \n",
    "    #remove list item\n",
    "    def remove_lst_item(self):\n",
    "        remove_item = input(\"Which item would you like to remove from the list? \")\n",
    "        quantity = int(input(\"How many would you like to remove? \"))\n",
    "        try:\n",
    "            self.lst_items[remove_item] -= quantity\n",
    "            if self.lst_items[remove_item] <= 0:\n",
    "                del self.lst_items[remove_item]\n",
    "            else:\n",
    "                print(f\"{quantity} {remove_item}(s) has/have been removed!\")\n",
    "        except:\n",
    "            print(f\"{remove_item} was not in your cart! Please select something else. \")\n",
    "        self.show_cart()\n",
    "          \n",
    "           \n",
    "def run():\n",
    "    \n",
    "    test_cart1 = Cart()    \n",
    "    while True:\n",
    "        response = input(\"What would you like to do to your cart. Add/Remove/Show/Checkout \").lower()\n",
    "        if response == \"checkout\":\n",
    "            print(f\"\\nThanks for shopping with us {test_cart1.name}! Here are your groceries. \\n\")\n",
    "            test_cart1.show_cart()\n",
    "            break\n",
    "        elif response == 'add':\n",
    "            test_cart1.add_item()\n",
    "        elif response == 'show':\n",
    "            test_cart1.show_cart()\n",
    "        elif response == 'remove':\n",
    "            test_cart1.remove_lst_item()\n",
    "\n",
    "run()\n",
    "\n",
    "#######################################################################################################\n",
    "# def run():\n",
    "#     ben_bus = Bus(2, 90, 45, 'yellow', \"Ben\")\n",
    "#     go_round_and_round = True\n",
    "#     while go_round_and_round:\n",
    "#         response = input(\"What would you like to do? Load/Unload/Change Driver/Check Seats/Admire/Quit \").lower()\n",
    "#         if response.lower() == \"quit\":\n",
    "#             print(\"OH NO! There are still passengers to be picked up. PLS don't abandon them!\")\n",
    "#             go_round_and_round = False\n",
    "#         elif response == \"load\":\n",
    "#             ben_bus.load_passengers() #<-- don't forget your parentheses\n",
    "            \n",
    "#         elif response == \"unload\":\n",
    "#             ben_bus.unload_passengers()\n",
    "            \n",
    "#         elif response == \"change driver\":\n",
    "#             ben_bus.change_driver()\n",
    "            \n",
    "#         elif response == \"check seats\":\n",
    "#             ben_bus.check_seats()\n",
    "            \n",
    "#         elif response == \"admire\":\n",
    "#             ben_bus.admire_bus()\n",
    "        \n",
    "#         else:\n",
    "#             print(\"That is not a valid response. Please choose from the list.\")\n",
    "            \n",
    "# run()\n",
    "                            \n",
    "###################################################################################                            \n",
    "#     #increment the number of seats available\n",
    "#     def unload_passengers(self):\n",
    "#         if self.seats_available >= self.seats:\n",
    "#             print(\"There is no one left to get off the bus!\")\n",
    "#         else:\n",
    "#             unload = int(input(\"How many passengers are getting off the bus? \"))\n",
    "#             self.seats_available += unload\n",
    "#             if self.seats_available >= self.seats:\n",
    "#                 self.seats_available = self.seats\n",
    "            \n",
    "#             print(f\"{unload} passengers have left the bus.  There are {self.seats_available} left\")\n",
    "    \n",
    "#     #change the bus driver attribute\n",
    "#     def change_driver(self):\n",
    "#         change = input(\"Who is replacing you? \")\n",
    "#         self.bus_driver = change\n",
    "#         print(f\"The new bus driver is {self.bus_driver}. Be sure to thank them.!\")\n",
    "    \n",
    "#     #display number of available seats\n",
    "#     def check_seats(self):\n",
    "#         print(f\"There are {self.seats_available} seats available.\")\n",
    "    \n",
    "#     #display bus color\n",
    "#     def admire_bus(self):\n",
    "#         print(f\"Would ya just look at that beautiful {self.color} bus! WOULD YA JUST LOOK AT IT!\")\n",
    "#######################################################################################################\n",
    "# class Cart():\n",
    "#     def __init__(self):\n",
    "#         self.items = []\n",
    "        \n",
    "# #     def add_item(self):\n",
    "# #         item = input(\"What would you like to add?\")\n",
    "# #         quantity = int(input(\"How many would you like to add? \"))\n",
    "# #         if item not in self.items:\n",
    "# #             self.items[item] = quantity\n",
    "# #         else:\n",
    "# #             self.items[item] += quantity\n",
    "\n",
    "#     def add_item(self):\n",
    "#         item = input(\"What would you like to add? \")\n",
    "#         self.items.append(item)\n",
    "    \n",
    "#     def show_cart(self):\n",
    "#         print(self.items)\n",
    "        \n",
    "#     def remove_item(self):\n",
    "#         pass\n",
    "        \n",
    "# my_cart = Cart()\n",
    "# my_cart.add_item()\n",
    "# my_cart.show_cart()\n",
    "# my_cart.add_item()\n",
    "# my_cart.show_cart()\n",
    "##############################################################################################################    "
   ]
  },
  {
   "cell_type": "markdown",
   "metadata": {},
   "source": [
    "### Exercise 2 - Write a Python class which has two methods get_String and print_String. get_String accept a string from the user and print_String print the string in upper case"
   ]
  },
  {
   "cell_type": "code",
   "execution_count": 52,
   "metadata": {},
   "outputs": [
    {
     "name": "stdout",
     "output_type": "stream",
     "text": [
      "Please enter your string. Best string ever.\n",
      "Here is my string:\n",
      " BEST STRING EVER.\n"
     ]
    }
   ],
   "source": [
    "class Str_stuff():\n",
    "    def __init__(self):\n",
    "        self.string = self.get_String()\n",
    "        \n",
    "    def get_String(self):\n",
    "        user_string = input(\"Please enter your string. \")\n",
    "        return user_string\n",
    "\n",
    "    def print_String(self):\n",
    "        print(f\"Here is my string:\\n {self.string.upper()}\")\n",
    "                \n",
    "my_Str_stuff = Str_stuff()\n",
    "\n",
    "my_Str_stuff.print_String()\n",
    "# my_Str_stuff.get_String()\n",
    "\n",
    "    "
   ]
  },
  {
   "cell_type": "code",
   "execution_count": null,
   "metadata": {},
   "outputs": [],
   "source": []
  }
 ],
 "metadata": {
  "kernelspec": {
   "display_name": "Python 3 (ipykernel)",
   "language": "python",
   "name": "python3"
  },
  "language_info": {
   "codemirror_mode": {
    "name": "ipython",
    "version": 3
   },
   "file_extension": ".py",
   "mimetype": "text/x-python",
   "name": "python",
   "nbconvert_exporter": "python",
   "pygments_lexer": "ipython3",
   "version": "3.10.10"
  }
 },
 "nbformat": 4,
 "nbformat_minor": 2
}
